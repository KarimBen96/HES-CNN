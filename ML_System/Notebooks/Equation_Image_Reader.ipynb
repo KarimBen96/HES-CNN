{
 "metadata": {
  "language_info": {
   "codemirror_mode": {
    "name": "ipython",
    "version": 3
   },
   "file_extension": ".py",
   "mimetype": "text/x-python",
   "name": "python",
   "nbconvert_exporter": "python",
   "pygments_lexer": "ipython3",
   "version": "3.7.9"
  },
  "orig_nbformat": 2,
  "kernelspec": {
   "name": "python3",
   "display_name": "Python 3.7.9 64-bit ('fastapi-tf-gpu': conda)",
   "metadata": {
    "interpreter": {
     "hash": "244c5cc2b6b0df4eb1ba2890bcb8759971f1edd6e87ae3a005c132f6b6474e2d"
    }
   }
  }
 },
 "nbformat": 4,
 "nbformat_minor": 2,
 "cells": [
  {
   "source": [
    "# Import Stuff"
   ],
   "cell_type": "markdown",
   "metadata": {}
  },
  {
   "cell_type": "code",
   "execution_count": 2,
   "metadata": {},
   "outputs": [],
   "source": [
    "import cv2\n",
    "import numpy as np\n",
    "import tensorflow\n",
    "from tensorflow.keras.datasets import mnist\n",
    "from tensorflow.keras.models import Sequential\n",
    "from tensorflow.keras.layers import Dense\n",
    "from tensorflow.keras.layers import Dropout\n",
    "from tensorflow.keras.layers import Flatten\n",
    "from tensorflow.keras.layers import Conv2D\n",
    "from tensorflow.keras.layers import MaxPooling2D\n",
    "from tensorflow.keras.models import model_from_json"
   ]
  },
  {
   "source": [
    "# Functions"
   ],
   "cell_type": "markdown",
   "metadata": {}
  },
  {
   "cell_type": "code",
   "execution_count": 10,
   "metadata": {},
   "outputs": [],
   "source": [
    "def load_model(model_json_file, model_h5_file):\n",
    "    \"\"\"\n",
    "    - We first load the model in json and convert it to a real model\n",
    "    - Then, we load the weights of the trained model\n",
    "    \"\"\"\n",
    "\n",
    "    json_file = open(model_json_file, 'r')\n",
    "    model_json = json_file.read()\n",
    "    json_file.close()\n",
    "    loaded_model = model_from_json(model_json)\n",
    "\n",
    "    # load weights into new model\n",
    "    loaded_model.load_weights(model_h5_file)\n",
    "\n",
    "    return loaded_model"
   ]
  },
  {
   "cell_type": "code",
   "execution_count": 4,
   "metadata": {},
   "outputs": [],
   "source": [
    "def load_image(file_name):\n",
    "    \"\"\"\n",
    "    - the (file_name) must come with the full path to the file\n",
    "    \"\"\"\n",
    "    img = cv2.imread(file_name, cv2.IMREAD_GRAYSCALE)\n",
    "    return img"
   ]
  },
  {
   "cell_type": "code",
   "execution_count": 14,
   "metadata": {},
   "outputs": [],
   "source": [
    "def image_to_equation(image, model):\n",
    "    \"\"\"\n",
    "    - The (image) returned by (load_image) function is converted into a string equation\n",
    "    \"\"\"\n",
    "    img = image\n",
    "    loaded_model = model\n",
    "    if img is not None:\n",
    "        # images.append(img)\n",
    "        img = ~img\n",
    "        ret, thresh = cv2.threshold(img, 127, 255, cv2.THRESH_BINARY)\n",
    "        ret, ctrs, n = cv2.findContours(thresh, cv2.RETR_TREE, cv2.CHAIN_APPROX_SIMPLE)\n",
    "        cnt = sorted(ctrs, key=lambda ctr: cv2.boundingRect(ctr)[0])\n",
    "        w = int(28)\n",
    "        h = int(28)\n",
    "        train_data = []\n",
    "        # print(len(cnt))\n",
    "        rects = []\n",
    "        \n",
    "        for c in cnt :\n",
    "            x, y, w, h = cv2.boundingRect(c)\n",
    "            rect = [x, y, w, h]\n",
    "            rects.append(rect)\n",
    "        #print(rects)\n",
    "        bool_rect = []\n",
    "        \n",
    "        for r in rects:\n",
    "            l = []\n",
    "            for rec in rects:\n",
    "                flag = 0\n",
    "                if rec != r:\n",
    "                    if r[0] < (rec[0] + rec[2] + 10) and rec[0] < (r[0] + r[2] + 10) and r[1] < (rec[1] + rec[3] + 10) and rec[1] < (r[1] + r[3] + 10):\n",
    "                        flag = 1\n",
    "                    l.append(flag)\n",
    "                if rec == r:\n",
    "                    l.append(0)\n",
    "            bool_rect.append(l)\n",
    "        #print(bool_rect)\n",
    "        dump_rect = []\n",
    "        \n",
    "        for i in range(0, len(cnt)):\n",
    "            for j in range(0, len(cnt)):\n",
    "                if bool_rect[i][j] == 1:\n",
    "                    area1 = rects[i][2] * rects[i][3]\n",
    "                    area2 = rects[j][2] * rects[j][3]\n",
    "                    if(area1 == min(area1, area2)):\n",
    "                        dump_rect.append(rects[i])\n",
    "        #print(len(dump_rect)) \n",
    "        final_rect = [i for i in rects if i not in dump_rect]\n",
    "        #print(final_rect)\n",
    "        \n",
    "        for r in final_rect:\n",
    "            x = r[0]\n",
    "            y = r[1]\n",
    "            w = r[2]\n",
    "            h = r[3]\n",
    "            im_crop = thresh[y:y+h+10, x:x+w+10]\n",
    "            im_resize = cv2.resize(im_crop, (28, 28))\n",
    "            \n",
    "            #cv2.imshow(\"work\", im_resize)\n",
    "            #cv2.waitKey(0)\n",
    "            #cv2.destroyAllWindows()\n",
    "\n",
    "            im_resize = np.reshape(im_resize, (28, 28, 1))\n",
    "            train_data.append(im_resize)\n",
    "\n",
    "        s = '' \n",
    "\n",
    "        for i in range(len(train_data)):\n",
    "            train_data[i] = np.array(train_data[i])\n",
    "            train_data[i] = train_data[i].reshape(1, 28, 28, 1)\n",
    "            result = loaded_model.predict_classes(train_data[i])\n",
    "            \n",
    "            if(result[0] == 0):\n",
    "                s = s + '0'\n",
    "            if(result[0] == 1):\n",
    "                s = s + '1'\n",
    "            if(result[0] == 2):\n",
    "                s = s + '2'\n",
    "            if(result[0] == 3):\n",
    "                s = s + '3'\n",
    "            if(result[0] == 4):\n",
    "                s = s + '4'\n",
    "            if(result[0] == 5):\n",
    "                s = s + '5'\n",
    "            if(result[0] == 6):\n",
    "                s = s + '6'\n",
    "            if(result[0] == 7):\n",
    "                s = s + '7'\n",
    "            if(result[0] == 8):\n",
    "                s = s + '8'\n",
    "            if(result[0] == 9):\n",
    "                s = s + '9'\n",
    "            if(result[0] == 10):\n",
    "                s = s + '-'\n",
    "            if(result[0] == 11):\n",
    "                s = s + '+'\n",
    "            if(result[0] == 12):\n",
    "                s = s + '*'\n",
    "            if(result[0] == 13):\n",
    "                s = s + '='\n",
    "            if(result[0] == 14):\n",
    "                s = s + 'a'\n",
    "            if(result[0] == 15):\n",
    "                s = s + 'b'\n",
    "            \n",
    "    return s"
   ]
  },
  {
   "source": [
    "# Main"
   ],
   "cell_type": "markdown",
   "metadata": {}
  },
  {
   "cell_type": "code",
   "execution_count": 30,
   "metadata": {},
   "outputs": [],
   "source": [
    "file_name = 'C:\\\\Users\\\\Karim\\\\Desktop\\\\PROJECTS\\\\HES_CNN\\\\ML_System\\\\Notebooks\\\\test_3.jpg'\n",
    "\n",
    "model = load_model('model_final.json', 'model_final.h5')\n",
    "image = load_image(file_name)\n",
    "equation = image_to_equation(image, model)"
   ]
  },
  {
   "cell_type": "code",
   "execution_count": 31,
   "metadata": {},
   "outputs": [
    {
     "output_type": "execute_result",
     "data": {
      "text/plain": [
       "'5*a+10'"
      ]
     },
     "metadata": {},
     "execution_count": 31
    }
   ],
   "source": [
    "equation"
   ]
  },
  {
   "cell_type": "code",
   "execution_count": null,
   "metadata": {},
   "outputs": [],
   "source": []
  }
 ]
}