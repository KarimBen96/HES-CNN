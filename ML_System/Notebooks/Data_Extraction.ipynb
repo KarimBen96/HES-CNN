{
 "cells": [
  {
   "cell_type": "markdown",
   "metadata": {},
   "source": [
    "# Import Stuff"
   ]
  },
  {
   "cell_type": "code",
   "execution_count": 1,
   "metadata": {},
   "outputs": [],
   "source": [
    "import numpy as np\n",
    "import pandas as pd\n",
    "import cv2\n",
    "\n",
    "from PIL import Image\n",
    "from matplotlib import pyplot as plt\n",
    "%matplotlib inline\n",
    "\n",
    "import os\n",
    "from os import listdir\n",
    "from os.path import isfile, join"
   ]
  },
  {
   "cell_type": "markdown",
   "metadata": {},
   "source": [
    "# Load Images from Folder"
   ]
  },
  {
   "cell_type": "code",
   "execution_count": 2,
   "metadata": {},
   "outputs": [],
   "source": [
    "def load_images_from_folder(folder, nb_elems=1000):\n",
    "    train_data = []\n",
    "    i = 0\n",
    "\n",
    "    for filename in os.listdir(folder):\n",
    "        img = cv2.imread(os.path.join(folder, filename), cv2.IMREAD_GRAYSCALE)\n",
    "        img = ~img\n",
    "\n",
    "        if img is not None:\n",
    "            ret, thresh = cv2.threshold(img, 127, 255, cv2.THRESH_BINARY)\n",
    "            ret, ctrs, ret = cv2.findContours(thresh, cv2.RETR_EXTERNAL, cv2.CHAIN_APPROX_NONE)\n",
    "            cnt = sorted(ctrs, key=lambda ctr: cv2.boundingRect(ctr)[0])\n",
    "            w=int(28)\n",
    "            h=int(28)\n",
    "            maxi=0\n",
    "\n",
    "            for c in cnt:\n",
    "                x, y, w, h = cv2.boundingRect(c)\n",
    "                maxi = max(w*h, maxi)\n",
    "\n",
    "                if maxi == w*h:\n",
    "                    x_max = x\n",
    "                    y_max = y\n",
    "                    w_max = w\n",
    "                    h_max = h\n",
    "\n",
    "            im_crop = thresh[y_max:y_max+h_max+10, x_max:x_max+w_max+10]\n",
    "            im_resize = cv2.resize(im_crop, (28, 28))\n",
    "            im_resize = np.reshape(im_resize, (784, 1))\n",
    "            train_data.append(im_resize)\n",
    "            \n",
    "            i += 1\n",
    "            if i >= nb_elems:\n",
    "                return train_data\n",
    "            \n",
    "    return train_data"
   ]
  },
  {
   "cell_type": "markdown",
   "metadata": {},
   "source": [
    "# Load each Folder and Save it as np array"
   ]
  },
  {
   "cell_type": "code",
   "execution_count": 3,
   "metadata": {},
   "outputs": [
    {
     "name": "stdout",
     "output_type": "stream",
     "text": [
      "2900\n"
     ]
    }
   ],
   "source": [
    "folder = 'C:\\\\Users\\\\Karim\\\\Desktop\\\\PROJECTS\\\\HES_CNN\\\\ML_System\\\\Dataset\\\\-'\n",
    "nb_elems_max = 2900\n",
    "\n",
    "data_minus = []\n",
    "data_minus = load_images_from_folder(folder, nb_elems_max)\n",
    "\n",
    "for i in range(0, len(data_minus)):\n",
    "    data_minus[i] = np.append(data_minus[i], ['10'])\n",
    "    \n",
    "np.save('C:\\\\Users\\\\Karim\\\\Desktop\\\\PROJECTS\\\\HES_CNN\\\\ML_System\\\\Dataset_Numpy\\\\data_minus', data_minus)\n",
    "print(len(data_minus))"
   ]
  },
  {
   "cell_type": "code",
   "execution_count": 5,
   "metadata": {},
   "outputs": [
    {
     "name": "stdout",
     "output_type": "stream",
     "text": [
      "2900\n"
     ]
    }
   ],
   "source": [
    "folder = 'C:\\\\Users\\\\Karim\\\\Desktop\\\\PROJECTS\\\\HES_CNN\\\\ML_System\\\\Dataset\\\\+'\n",
    "nb_elems_max = 2900\n",
    "\n",
    "data_plus = []\n",
    "data_plus = load_images_from_folder(folder, nb_elems_max)\n",
    "\n",
    "for i in range(0, len(data_plus)):\n",
    "    data_plus[i] = np.append(data_plus[i], ['11'])\n",
    "    \n",
    "np.save('C:\\\\Users\\\\Karim\\\\Desktop\\\\PROJECTS\\\\HES_CNN\\\\ML_System\\\\Dataset_Numpy\\\\data_plus', data_plus)  \n",
    "print(len(data_plus))"
   ]
  },
  {
   "cell_type": "code",
   "execution_count": 6,
   "metadata": {},
   "outputs": [
    {
     "name": "stdout",
     "output_type": "stream",
     "text": [
      "2900\n"
     ]
    }
   ],
   "source": [
    "folder = 'C:\\\\Users\\\\Karim\\\\Desktop\\\\PROJECTS\\\\HES_CNN\\\\ML_System\\\\Dataset\\\\times'\n",
    "nb_elems_max = 2900\n",
    "\n",
    "data_times = []\n",
    "data_times = load_images_from_folder(folder, nb_elems_max)\n",
    "\n",
    "for i in range(0, len(data_times)):\n",
    "    data_times[i] = np.append(data_times[i], ['12'])\n",
    "    \n",
    "np.save('C:\\\\Users\\\\Karim\\\\Desktop\\\\PROJECTS\\\\HES_CNN\\\\ML_System\\\\Dataset_Numpy\\\\data_times', data_times)  \n",
    "print(len(data_times))"
   ]
  },
  {
   "cell_type": "code",
   "execution_count": 7,
   "metadata": {},
   "outputs": [
    {
     "name": "stdout",
     "output_type": "stream",
     "text": [
      "2900\n"
     ]
    }
   ],
   "source": [
    "folder = 'C:\\\\Users\\\\Karim\\\\Desktop\\\\PROJECTS\\\\HES_CNN\\\\ML_System\\\\Dataset\\\\='\n",
    "nb_elems_max = 2900\n",
    "\n",
    "data_equals = []\n",
    "data_equals = load_images_from_folder(folder, nb_elems_max)\n",
    "\n",
    "for i in range(0, len(data_equals)):\n",
    "    data_equals[i] = np.append(data_equals[i], ['13'])\n",
    "    \n",
    "np.save('C:\\\\Users\\\\Karim\\\\Desktop\\\\PROJECTS\\\\HES_CNN\\\\ML_System\\\\Dataset_Numpy\\\\data_equals', data_equals)  \n",
    "print(len(data_equals))"
   ]
  },
  {
   "cell_type": "code",
   "execution_count": 8,
   "metadata": {},
   "outputs": [
    {
     "name": "stdout",
     "output_type": "stream",
     "text": [
      "2900\n"
     ]
    }
   ],
   "source": [
    "folder = 'C:\\\\Users\\\\Karim\\\\Desktop\\\\PROJECTS\\\\HES_CNN\\\\ML_System\\\\Dataset\\\\a'\n",
    "nb_elems_max = 2900\n",
    "\n",
    "data_a = []\n",
    "data_a = load_images_from_folder(folder, nb_elems_max)\n",
    "\n",
    "for i in range(0, len(data_a)):\n",
    "    data_a[i] = np.append(data_a[i], ['14'])\n",
    "    \n",
    "np.save('C:\\\\Users\\\\Karim\\\\Desktop\\\\PROJECTS\\\\HES_CNN\\\\ML_System\\\\Dataset_Numpy\\\\data_a', data_a)  \n",
    "print(len(data_a))"
   ]
  },
  {
   "cell_type": "code",
   "execution_count": 9,
   "metadata": {},
   "outputs": [
    {
     "name": "stdout",
     "output_type": "stream",
     "text": [
      "2900\n"
     ]
    }
   ],
   "source": [
    "folder = 'C:\\\\Users\\\\Karim\\\\Desktop\\\\PROJECTS\\\\HES_CNN\\\\ML_System\\\\Dataset\\\\b'\n",
    "nb_elems_max = 2900\n",
    "\n",
    "data_b = []\n",
    "data_b = load_images_from_folder(folder, nb_elems_max)\n",
    "\n",
    "for i in range(0, len(data_b)):\n",
    "    data_b[i] = np.append(data_b[i], ['15'])\n",
    "    \n",
    "np.save('C:\\\\Users\\\\Karim\\\\Desktop\\\\PROJECTS\\\\HES_CNN\\\\ML_System\\\\Dataset_Numpy\\\\data_b', data_b)  \n",
    "print(len(data_b))"
   ]
  },
  {
   "cell_type": "code",
   "execution_count": 10,
   "metadata": {},
   "outputs": [
    {
     "name": "stdout",
     "output_type": "stream",
     "text": [
      "2900\n",
      "2900\n",
      "2900\n",
      "2900\n",
      "2900\n",
      "2900\n",
      "2900\n",
      "2900\n",
      "2900\n",
      "2900\n"
     ]
    }
   ],
   "source": [
    "folder = 'C:\\\\Users\\\\Karim\\\\Desktop\\\\PROJECTS\\\\HES_CNN\\\\ML_System\\\\Dataset\\\\'\n",
    "nb_elems_max = 2900\n",
    "\n",
    "for i in range(10):\n",
    "    data_numbers = []\n",
    "    data_numbers = load_images_from_folder(folder + str(i), nb_elems_max)\n",
    "    \n",
    "    for j in range(0, len(data_numbers)):\n",
    "        data_numbers[j] = np.append(data_numbers[j], [str(i)])\n",
    "    \n",
    "    np.save('C:\\\\Users\\\\Karim\\\\Desktop\\\\PROJECTS\\\\HES_CNN\\\\ML_System\\\\Dataset_Numpy\\\\data_' + str(i), data_numbers)  \n",
    "    print(len(data_numbers))"
   ]
  },
  {
   "cell_type": "markdown",
   "metadata": {},
   "source": [
    "# Combine np arrays in a csv file and save it"
   ]
  },
  {
   "cell_type": "code",
   "execution_count": 11,
   "metadata": {},
   "outputs": [],
   "source": [
    "folder_parent = 'C:\\\\Users\\\\Karim\\\\Desktop\\\\PROJECTS\\\\HES_CNN\\\\ML_System\\\\Dataset_Numpy\\\\'\n",
    "all_data = np.array([])\n",
    "aig = True\n",
    "\n",
    "for folder in os.listdir(folder_parent):\n",
    "    data_np = np.load(folder_parent + folder)\n",
    "    \n",
    "    if aig == True:\n",
    "        all_data = data_np\n",
    "        aig = False\n",
    "    else:\n",
    "        all_data = np.concatenate((all_data, data_np))"
   ]
  },
  {
   "cell_type": "code",
   "execution_count": 12,
   "metadata": {},
   "outputs": [
    {
     "data": {
      "text/plain": [
       "(2900, 785)"
      ]
     },
     "execution_count": 12,
     "metadata": {},
     "output_type": "execute_result"
    }
   ],
   "source": [
    "data_np.shape"
   ]
  },
  {
   "cell_type": "code",
   "execution_count": 13,
   "metadata": {},
   "outputs": [
    {
     "data": {
      "text/plain": [
       "(46400, 785)"
      ]
     },
     "execution_count": 13,
     "metadata": {},
     "output_type": "execute_result"
    }
   ],
   "source": [
    "all_data.shape"
   ]
  },
  {
   "cell_type": "code",
   "execution_count": 14,
   "metadata": {},
   "outputs": [],
   "source": [
    "df = pd.DataFrame(all_data, index=None)\n",
    "df.to_csv('train_final.csv', index=False)"
   ]
  },
  {
   "cell_type": "code",
   "execution_count": null,
   "metadata": {},
   "outputs": [],
   "source": []
  }
 ],
 "metadata": {
  "kernelspec": {
   "display_name": "tf-gpu",
   "language": "python",
   "name": "tf-gpu"
  },
  "language_info": {
   "codemirror_mode": {
    "name": "ipython",
    "version": 3
   },
   "file_extension": ".py",
   "mimetype": "text/x-python",
   "name": "python",
   "nbconvert_exporter": "python",
   "pygments_lexer": "ipython3",
   "version": "3.7.9"
  }
 },
 "nbformat": 4,
 "nbformat_minor": 4
}
