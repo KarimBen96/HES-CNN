{
 "cells": [
  {
   "cell_type": "markdown",
   "metadata": {},
   "source": [
    "# Import Stuff"
   ]
  },
  {
   "cell_type": "code",
   "execution_count": 17,
   "metadata": {},
   "outputs": [],
   "source": [
    "import numpy as np\n",
    "import pandas as pd\n",
    "from sympy import symbols, Eq, solve, Symbol"
   ]
  },
  {
   "cell_type": "markdown",
   "metadata": {},
   "source": [
    "# Equation Solving"
   ]
  },
  {
   "cell_type": "code",
   "execution_count": 2,
   "metadata": {},
   "outputs": [],
   "source": [
    "a, b = symbols('a b')"
   ]
  },
  {
   "cell_type": "code",
   "execution_count": 8,
   "metadata": {},
   "outputs": [
    {
     "output_type": "execute_result",
     "data": {
      "text/plain": [
       "4*a - 10*b + 7"
      ],
      "text/latex": "$\\displaystyle 4 a - 10 b + 7$"
     },
     "metadata": {},
     "execution_count": 8
    }
   ],
   "source": [
    "eq1 = (4*a + 7 - 10*b)\n",
    "eq2 = (-5*a + 13 - 9*b)\n",
    "eq1"
   ]
  },
  {
   "cell_type": "code",
   "execution_count": 5,
   "metadata": {},
   "outputs": [
    {
     "output_type": "execute_result",
     "data": {
      "text/plain": [
       "{a: 67/86, b: 87/86}"
      ]
     },
     "metadata": {},
     "execution_count": 5
    }
   ],
   "source": [
    "sol = solve((eq1, eq2), (a, b))\n",
    "sol"
   ]
  },
  {
   "source": [
    "# Functions"
   ],
   "cell_type": "markdown",
   "metadata": {}
  },
  {
   "cell_type": "code",
   "execution_count": null,
   "metadata": {},
   "outputs": [],
   "source": [
    "def remove_successive_signs(equation):\n",
    "    \"\"\"\n",
    "    \"\"\"\n",
    "    signs = ['+', '-', '='] \n",
    "    new_equation = ''\n",
    "    i = 0\n",
    "    while i < len(equation):\n",
    "        if equation[i] in signs:\n",
    "            if equation[i+1] == equation[i]:\n",
    "                equation = equation.replace(equation[i], '', 1)\n",
    "        i += 1\n",
    "\n",
    "    return equation"
   ]
  },
  {
   "cell_type": "code",
   "execution_count": 39,
   "metadata": {},
   "outputs": [],
   "source": [
    "def one_factor_equation_solving(str_equation):\n",
    "    \"\"\"\n",
    "    - Solve an equation equal to zero with one unknown factor\n",
    "    - The unknown factor must be either (a) or (b)\n",
    "    - The equation must be equal to zero\n",
    "    - return: a dctionary like {a: 5/2}\n",
    "    \"\"\"\n",
    "    dict_solution = {}\n",
    "    a, b = symbols('a b')\n",
    "    if 'a' in str_equation:\n",
    "        solution = solve(str_equation, a)\n",
    "        dict_solution = {a: solution[0]}\n",
    "    if 'b' in str_equation:\n",
    "        solution = solve(str_equation, b)\n",
    "        dict_solution = {b: solution[0]}\n",
    "    \n",
    "    return dict_solution"
   ]
  },
  {
   "cell_type": "code",
   "execution_count": 32,
   "metadata": {},
   "outputs": [],
   "source": [
    "def two_factors_equation_solving(str_equation_1, str_equation_2):\n",
    "    \"\"\"\n",
    "    - Solve two equations, each one is equal to zero with two unknown factors\n",
    "    - The unknown factor must be (a) and (b)\n",
    "    - The equations must be equal to zero\n",
    "    - return: a dctionary like {a: 5/2, b: 4/3}\n",
    "    \"\"\"\n",
    "\n",
    "    a, b = symbols('a b')\n",
    "    solution = solve((str_equation_1, str_equation_2), (a, b))\n",
    "    \n",
    "    return solution"
   ]
  },
  {
   "source": [
    "# Main"
   ],
   "cell_type": "markdown",
   "metadata": {}
  },
  {
   "cell_type": "code",
   "execution_count": 41,
   "metadata": {},
   "outputs": [
    {
     "output_type": "execute_result",
     "data": {
      "text/plain": [
       "{a: 5/2}"
      ]
     },
     "metadata": {},
     "execution_count": 41
    }
   ],
   "source": [
    "eq1 = '4*a-10'\n",
    "\n",
    "one_factor_equation_solving(eq1)"
   ]
  },
  {
   "cell_type": "code",
   "execution_count": 43,
   "metadata": {},
   "outputs": [
    {
     "output_type": "execute_result",
     "data": {
      "text/plain": [
       "{a: 5/2, b: -12/7}"
      ]
     },
     "metadata": {},
     "execution_count": 43
    }
   ],
   "source": [
    "eq1 = '4*a-10'\n",
    "eq2 = '7*b+12'\n",
    "\n",
    "two_factors_equation_solving(eq1, eq2)"
   ]
  }
 ],
 "metadata": {
  "kernelspec": {
   "display_name": "tf-gpu",
   "language": "python",
   "name": "tf-gpu"
  },
  "language_info": {
   "codemirror_mode": {
    "name": "ipython",
    "version": 3
   },
   "file_extension": ".py",
   "mimetype": "text/x-python",
   "name": "python",
   "nbconvert_exporter": "python",
   "pygments_lexer": "ipython3",
   "version": "3.7.9"
  }
 },
 "nbformat": 4,
 "nbformat_minor": 4
}